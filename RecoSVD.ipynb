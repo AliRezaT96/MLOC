{
 "cells": [
  {
   "cell_type": "code",
   "execution_count": 1,
   "id": "41f70c77",
   "metadata": {},
   "outputs": [],
   "source": [
    "from surprise import SVD, Dataset\n",
    "from surprise.dump import load\n",
    "from collections import defaultdict\n",
    "import pandas as pd\n"
   ]
  },
  {
   "cell_type": "code",
   "execution_count": 3,
   "id": "d5c22dea",
   "metadata": {},
   "outputs": [],
   "source": [
    "# Load the movielens-100k dataset (download it if needed).\n",
    "data = Dataset.load_builtin('ml-100k')\n",
    "trainset = data.build_full_trainset()"
   ]
  },
  {
   "cell_type": "code",
   "execution_count": 6,
   "id": "3584f3fa",
   "metadata": {},
   "outputs": [],
   "source": [
    "algo = SVD()"
   ]
  },
  {
   "cell_type": "code",
   "execution_count": 8,
   "id": "e3d4a4a6",
   "metadata": {},
   "outputs": [
    {
     "name": "stdout",
     "output_type": "stream",
     "text": [
      "Evaluating RMSE, MAE of algorithm SVD on 5 split(s).\n",
      "\n",
      "                  Fold 1  Fold 2  Fold 3  Fold 4  Fold 5  Mean    Std     \n",
      "RMSE (testset)    0.9307  0.9440  0.9446  0.9344  0.9351  0.9378  0.0056  \n",
      "MAE (testset)     0.7307  0.7455  0.7445  0.7365  0.7383  0.7391  0.0054  \n",
      "Fit time          1.13    1.13    1.12    1.12    1.29    1.16    0.07    \n",
      "Test time         0.23    0.29    0.29    0.24    0.32    0.27    0.03    \n"
     ]
    },
    {
     "data": {
      "text/plain": [
       "{'test_rmse': array([0.93068089, 0.94399941, 0.94460361, 0.93443806, 0.93508288]),\n",
       " 'test_mae': array([0.73070996, 0.74554333, 0.74451219, 0.73652816, 0.7382913 ]),\n",
       " 'fit_time': (1.1257879734039307,\n",
       "  1.128281593322754,\n",
       "  1.1153044700622559,\n",
       "  1.115311861038208,\n",
       "  1.2911396026611328),\n",
       " 'test_time': (0.231856107711792,\n",
       "  0.287825345993042,\n",
       "  0.29181909561157227,\n",
       "  0.24184727668762207,\n",
       "  0.3210451602935791)}"
      ]
     },
     "execution_count": 8,
     "metadata": {},
     "output_type": "execute_result"
    }
   ],
   "source": [
    "from surprise.model_selection import cross_validate\n",
    "cross_validate(algo, data, measures=['RMSE', 'MAE'], cv=5, verbose=True)"
   ]
  },
  {
   "cell_type": "code",
   "execution_count": null,
   "id": "8e58ac9d",
   "metadata": {},
   "outputs": [],
   "source": []
  }
 ],
 "metadata": {
  "kernelspec": {
   "display_name": "Python 3 (ipykernel)",
   "language": "python",
   "name": "python3"
  },
  "language_info": {
   "codemirror_mode": {
    "name": "ipython",
    "version": 3
   },
   "file_extension": ".py",
   "mimetype": "text/x-python",
   "name": "python",
   "nbconvert_exporter": "python",
   "pygments_lexer": "ipython3",
   "version": "3.7.13"
  }
 },
 "nbformat": 4,
 "nbformat_minor": 5
}
